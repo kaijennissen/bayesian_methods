{
 "cells": [
  {
   "cell_type": "markdown",
   "metadata": {},
   "source": [
    "# Bayesian Variable Selection for Correlated Variables"
   ]
  },
  {
   "cell_type": "markdown",
   "metadata": {},
   "source": [
    "#### Global Imports"
   ]
  },
  {
   "cell_type": "code",
   "execution_count": 1,
   "metadata": {},
   "outputs": [],
   "source": [
    "import numpy as np\n",
    "import pymc3 as pm\n",
    "import theano.tensor as tt\n",
    "import matplotlib.pyplot as plt\n",
    "\n",
    "from arviz import summary, plot_trace\n",
    "from theano.tensor import _shared\n",
    "from sklearn.preprocessing import StandardScaler"
   ]
  },
  {
   "cell_type": "markdown",
   "metadata": {},
   "source": [
    "## Uncorrelated Predictors"
   ]
  },
  {
   "cell_type": "code",
   "execution_count": 2,
   "metadata": {},
   "outputs": [],
   "source": [
    "sd_dist = pm.Uniform.dist(0, 1)\n",
    "packed_chol = pm.LKJCholeskyCov.dist(eta=1, n=20, sd_dist=sd_dist).random()"
   ]
  },
  {
   "cell_type": "code",
   "execution_count": 3,
   "metadata": {},
   "outputs": [],
   "source": [
    "chol = pm.expand_packed_triangular(20, packed_chol, lower=True).eval()"
   ]
  },
  {
   "cell_type": "code",
   "execution_count": 4,
   "metadata": {},
   "outputs": [
    {
     "output_type": "execute_result",
     "data": {
      "text/plain": "<matplotlib.image.AxesImage at 0x125725690>"
     },
     "metadata": {},
     "execution_count": 4
    },
    {
     "output_type": "display_data",
     "data": {
      "text/plain": "<Figure size 432x432 with 1 Axes>",
      "image/svg+xml": "<?xml version=\"1.0\" encoding=\"utf-8\" standalone=\"no\"?>\n<!DOCTYPE svg PUBLIC \"-//W3C//DTD SVG 1.1//EN\"\n  \"http://www.w3.org/Graphics/SVG/1.1/DTD/svg11.dtd\">\n<!-- Created with matplotlib (https://matplotlib.org/) -->\n<svg height=\"360.738125pt\" version=\"1.1\" viewBox=\"0 0 360.285 360.738125\" width=\"360.285pt\" xmlns=\"http://www.w3.org/2000/svg\" xmlns:xlink=\"http://www.w3.org/1999/xlink\">\n <defs>\n  <style type=\"text/css\">\n*{stroke-linecap:butt;stroke-linejoin:round;}\n  </style>\n </defs>\n <g id=\"figure_1\">\n  <g id=\"patch_1\">\n   <path d=\"M 0 360.738125 \nL 360.285 360.738125 \nL 360.285 0 \nL 0 0 \nz\n\" style=\"fill:none;\"/>\n  </g>\n  <g id=\"axes_1\">\n   <g id=\"patch_2\">\n    <path d=\"M 26.925 350.038125 \nL 353.085 350.038125 \nL 353.085 23.878125 \nL 26.925 23.878125 \nz\n\" style=\"fill:#ffffff;\"/>\n   </g>\n   <g clip-path=\"url(#pc2c7d17f7b)\">\n    <image height=\"327\" id=\"image7b9c476d5b\" transform=\"scale(1 -1)translate(0 -327)\" width=\"327\" x=\"26.925\" xlink:href=\"data:image/png;base64,\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\" y=\"-23.038125\"/>\n   </g>\n   <g id=\"matplotlib.axis_1\">\n    <g id=\"xtick_1\">\n     <g id=\"line2d_1\">\n      <defs>\n       <path d=\"M 0 0 \nL 0 3.5 \n\" id=\"md2add1a6b6\" style=\"stroke:#000000;stroke-width:0.8;\"/>\n      </defs>\n      <g>\n       <use style=\"stroke:#000000;stroke-width:0.8;\" x=\"35.079\" xlink:href=\"#md2add1a6b6\" y=\"350.038125\"/>\n      </g>\n     </g>\n     <g id=\"line2d_2\">\n      <defs>\n       <path d=\"M 0 0 \nL 0 -3.5 \n\" id=\"ma2e4279d46\" style=\"stroke:#000000;stroke-width:0.8;\"/>\n      </defs>\n      <g>\n       <use style=\"stroke:#000000;stroke-width:0.8;\" x=\"35.079\" xlink:href=\"#ma2e4279d46\" y=\"23.878125\"/>\n      </g>\n     </g>\n     <g id=\"text_1\">\n      <!-- 0 -->\n      <defs>\n       <path d=\"M 31.78125 66.40625 \nQ 24.171875 66.40625 20.328125 58.90625 \nQ 16.5 51.421875 16.5 36.375 \nQ 16.5 21.390625 20.328125 13.890625 \nQ 24.171875 6.390625 31.78125 6.390625 \nQ 39.453125 6.390625 43.28125 13.890625 \nQ 47.125 21.390625 47.125 36.375 \nQ 47.125 51.421875 43.28125 58.90625 \nQ 39.453125 66.40625 31.78125 66.40625 \nz\nM 31.78125 74.21875 \nQ 44.046875 74.21875 50.515625 64.515625 \nQ 56.984375 54.828125 56.984375 36.375 \nQ 56.984375 17.96875 50.515625 8.265625 \nQ 44.046875 -1.421875 31.78125 -1.421875 \nQ 19.53125 -1.421875 13.0625 8.265625 \nQ 6.59375 17.96875 6.59375 36.375 \nQ 6.59375 54.828125 13.0625 64.515625 \nQ 19.53125 74.21875 31.78125 74.21875 \nz\n\" id=\"DejaVuSans-48\"/>\n      </defs>\n      <g transform=\"translate(31.89775 14.798437)scale(0.1 -0.1)\">\n       <use xlink:href=\"#DejaVuSans-48\"/>\n      </g>\n     </g>\n    </g>\n    <g id=\"xtick_2\">\n     <g id=\"line2d_3\">\n      <g>\n       <use style=\"stroke:#000000;stroke-width:0.8;\" x=\"116.619\" xlink:href=\"#md2add1a6b6\" y=\"350.038125\"/>\n      </g>\n     </g>\n     <g id=\"line2d_4\">\n      <g>\n       <use style=\"stroke:#000000;stroke-width:0.8;\" x=\"116.619\" xlink:href=\"#ma2e4279d46\" y=\"23.878125\"/>\n      </g>\n     </g>\n     <g id=\"text_2\">\n      <!-- 5 -->\n      <defs>\n       <path d=\"M 10.796875 72.90625 \nL 49.515625 72.90625 \nL 49.515625 64.59375 \nL 19.828125 64.59375 \nL 19.828125 46.734375 \nQ 21.96875 47.46875 24.109375 47.828125 \nQ 26.265625 48.1875 28.421875 48.1875 \nQ 40.625 48.1875 47.75 41.5 \nQ 54.890625 34.8125 54.890625 23.390625 \nQ 54.890625 11.625 47.5625 5.09375 \nQ 40.234375 -1.421875 26.90625 -1.421875 \nQ 22.3125 -1.421875 17.546875 -0.640625 \nQ 12.796875 0.140625 7.71875 1.703125 \nL 7.71875 11.625 \nQ 12.109375 9.234375 16.796875 8.0625 \nQ 21.484375 6.890625 26.703125 6.890625 \nQ 35.15625 6.890625 40.078125 11.328125 \nQ 45.015625 15.765625 45.015625 23.390625 \nQ 45.015625 31 40.078125 35.4375 \nQ 35.15625 39.890625 26.703125 39.890625 \nQ 22.75 39.890625 18.8125 39.015625 \nQ 14.890625 38.140625 10.796875 36.28125 \nz\n\" id=\"DejaVuSans-53\"/>\n      </defs>\n      <g transform=\"translate(113.43775 14.798437)scale(0.1 -0.1)\">\n       <use xlink:href=\"#DejaVuSans-53\"/>\n      </g>\n     </g>\n    </g>\n    <g id=\"xtick_3\">\n     <g id=\"line2d_5\">\n      <g>\n       <use style=\"stroke:#000000;stroke-width:0.8;\" x=\"198.159\" xlink:href=\"#md2add1a6b6\" y=\"350.038125\"/>\n      </g>\n     </g>\n     <g id=\"line2d_6\">\n      <g>\n       <use style=\"stroke:#000000;stroke-width:0.8;\" x=\"198.159\" xlink:href=\"#ma2e4279d46\" y=\"23.878125\"/>\n      </g>\n     </g>\n     <g id=\"text_3\">\n      <!-- 10 -->\n      <defs>\n       <path d=\"M 12.40625 8.296875 \nL 28.515625 8.296875 \nL 28.515625 63.921875 \nL 10.984375 60.40625 \nL 10.984375 69.390625 \nL 28.421875 72.90625 \nL 38.28125 72.90625 \nL 38.28125 8.296875 \nL 54.390625 8.296875 \nL 54.390625 0 \nL 12.40625 0 \nz\n\" id=\"DejaVuSans-49\"/>\n      </defs>\n      <g transform=\"translate(191.7965 14.798437)scale(0.1 -0.1)\">\n       <use xlink:href=\"#DejaVuSans-49\"/>\n       <use x=\"63.623047\" xlink:href=\"#DejaVuSans-48\"/>\n      </g>\n     </g>\n    </g>\n    <g id=\"xtick_4\">\n     <g id=\"line2d_7\">\n      <g>\n       <use style=\"stroke:#000000;stroke-width:0.8;\" x=\"279.699\" xlink:href=\"#md2add1a6b6\" y=\"350.038125\"/>\n      </g>\n     </g>\n     <g id=\"line2d_8\">\n      <g>\n       <use style=\"stroke:#000000;stroke-width:0.8;\" x=\"279.699\" xlink:href=\"#ma2e4279d46\" y=\"23.878125\"/>\n      </g>\n     </g>\n     <g id=\"text_4\">\n      <!-- 15 -->\n      <g transform=\"translate(273.3365 14.798437)scale(0.1 -0.1)\">\n       <use xlink:href=\"#DejaVuSans-49\"/>\n       <use x=\"63.623047\" xlink:href=\"#DejaVuSans-53\"/>\n      </g>\n     </g>\n    </g>\n   </g>\n   <g id=\"matplotlib.axis_2\">\n    <g id=\"ytick_1\">\n     <g id=\"line2d_9\">\n      <defs>\n       <path d=\"M 0 0 \nL -3.5 0 \n\" id=\"md62829d208\" style=\"stroke:#000000;stroke-width:0.8;\"/>\n      </defs>\n      <g>\n       <use style=\"stroke:#000000;stroke-width:0.8;\" x=\"26.925\" xlink:href=\"#md62829d208\" y=\"32.032125\"/>\n      </g>\n     </g>\n     <g id=\"text_5\">\n      <!-- 0 -->\n      <g transform=\"translate(13.5625 35.831344)scale(0.1 -0.1)\">\n       <use xlink:href=\"#DejaVuSans-48\"/>\n      </g>\n     </g>\n    </g>\n    <g id=\"ytick_2\">\n     <g id=\"line2d_10\">\n      <g>\n       <use style=\"stroke:#000000;stroke-width:0.8;\" x=\"26.925\" xlink:href=\"#md62829d208\" y=\"113.572125\"/>\n      </g>\n     </g>\n     <g id=\"text_6\">\n      <!-- 5 -->\n      <g transform=\"translate(13.5625 117.371344)scale(0.1 -0.1)\">\n       <use xlink:href=\"#DejaVuSans-53\"/>\n      </g>\n     </g>\n    </g>\n    <g id=\"ytick_3\">\n     <g id=\"line2d_11\">\n      <g>\n       <use style=\"stroke:#000000;stroke-width:0.8;\" x=\"26.925\" xlink:href=\"#md62829d208\" y=\"195.112125\"/>\n      </g>\n     </g>\n     <g id=\"text_7\">\n      <!-- 10 -->\n      <g transform=\"translate(7.2 198.911344)scale(0.1 -0.1)\">\n       <use xlink:href=\"#DejaVuSans-49\"/>\n       <use x=\"63.623047\" xlink:href=\"#DejaVuSans-48\"/>\n      </g>\n     </g>\n    </g>\n    <g id=\"ytick_4\">\n     <g id=\"line2d_12\">\n      <g>\n       <use style=\"stroke:#000000;stroke-width:0.8;\" x=\"26.925\" xlink:href=\"#md62829d208\" y=\"276.652125\"/>\n      </g>\n     </g>\n     <g id=\"text_8\">\n      <!-- 15 -->\n      <g transform=\"translate(7.2 280.451344)scale(0.1 -0.1)\">\n       <use xlink:href=\"#DejaVuSans-49\"/>\n       <use x=\"63.623047\" xlink:href=\"#DejaVuSans-53\"/>\n      </g>\n     </g>\n    </g>\n   </g>\n   <g id=\"patch_3\">\n    <path d=\"M 26.925 350.038125 \nL 26.925 23.878125 \n\" style=\"fill:none;stroke:#000000;stroke-linecap:square;stroke-linejoin:miter;stroke-width:0.8;\"/>\n   </g>\n   <g id=\"patch_4\">\n    <path d=\"M 353.085 350.038125 \nL 353.085 23.878125 \n\" style=\"fill:none;stroke:#000000;stroke-linecap:square;stroke-linejoin:miter;stroke-width:0.8;\"/>\n   </g>\n   <g id=\"patch_5\">\n    <path d=\"M 26.925 350.038125 \nL 353.085 350.038125 \n\" style=\"fill:none;stroke:#000000;stroke-linecap:square;stroke-linejoin:miter;stroke-width:0.8;\"/>\n   </g>\n   <g id=\"patch_6\">\n    <path d=\"M 26.925 23.878125 \nL 353.085 23.878125 \n\" style=\"fill:none;stroke:#000000;stroke-linecap:square;stroke-linejoin:miter;stroke-width:0.8;\"/>\n   </g>\n  </g>\n </g>\n <defs>\n  <clipPath id=\"pc2c7d17f7b\">\n   <rect height=\"326.16\" width=\"326.16\" x=\"26.925\" y=\"23.878125\"/>\n  </clipPath>\n </defs>\n</svg>\n",
      "image/png": "[encoded data removed]"
     },
     "metadata": {
      "needs_background": "light"
     }
    }
   ],
   "source": [
    "fig, ax = plt.subplots(figsize=(6, 6))\n",
    "ax.matshow(chol)"
   ]
  },
  {
   "cell_type": "code",
   "execution_count": 5,
   "metadata": {},
   "outputs": [],
   "source": [
    "# Simulate Data\n",
    "k = 20 # number of predictors\n",
    "p = 5 # number of nonzero predictors\n",
    "n = 5000\n",
    "sigma = 0.7\n",
    "\n",
    "np.random.seed(615)\n",
    "\n",
    "zero_idx = np.random.choice(np.arange(0, k), k-p, replace=False)\n",
    "true_beta = np.random.randn(k)\n",
    "true_beta[zero_idx] = 0"
   ]
  },
  {
   "cell_type": "code",
   "execution_count": 6,
   "metadata": {},
   "outputs": [],
   "source": [
    "scaler_x = StandardScaler()\n",
    "# Predictor variable\n",
    "X = pm.MvNormal.dist(mu=np.zeros(k), chol=chol, shape=[1, k]).random(size=n)\n",
    "X = scaler_x.fit_transform(X)"
   ]
  },
  {
   "cell_type": "code",
   "execution_count": 7,
   "metadata": {},
   "outputs": [],
   "source": [
    "# Simulate outcome variable\n",
    "y = X.dot(true_beta) + np.random.randn(n) * sigma "
   ]
  },
  {
   "cell_type": "code",
   "execution_count": 8,
   "metadata": {},
   "outputs": [],
   "source": [
    "x = tt._shared(X)\n",
    "y_obs = tt._shared(y)"
   ]
  },
  {
   "cell_type": "code",
   "execution_count": 9,
   "metadata": {},
   "outputs": [
    {
     "output_type": "execute_result",
     "data": {
      "text/plain": "<matplotlib.colorbar.Colorbar at 0x12f87bc10>"
     },
     "metadata": {},
     "execution_count": 9
    },
    {
     "output_type": "display_data",
     "data": {
      "text/plain": "<Figure size 288x288 with 2 Axes>",
      "image/svg+xml": "<?xml version=\"1.0\" encoding=\"utf-8\" standalone=\"no\"?>\n<!DOCTYPE svg PUBLIC \"-//W3C//DTD SVG 1.1//EN\"\n  \"http://www.w3.org/Graphics/SVG/1.1/DTD/svg11.dtd\">\n<!-- Created with matplotlib (https://matplotlib.org/) -->\n<svg height=\"245.306504pt\" version=\"1.1\" viewBox=\"0 0 266.287812 245.306504\" width=\"266.287812pt\" xmlns=\"http://www.w3.org/2000/svg\" xmlns:xlink=\"http://www.w3.org/1999/xlink\">\n <defs>\n  <style type=\"text/css\">\n*{stroke-linecap:butt;stroke-linejoin:round;}\n  </style>\n </defs>\n <g id=\"figure_1\">\n  <g id=\"patch_1\">\n   <path d=\"M 0 245.306504 \nL 266.287812 245.306504 \nL 266.287812 0 \nL 0 0 \nz\n\" style=\"fill:none;\"/>\n  </g>\n  <g id=\"axes_1\">\n   <g id=\"patch_2\">\n    <path d=\"M 26.925 211.85156 \nL 205.485 211.85156 \nL 205.485 33.29156 \nL 26.925 33.29156 \nz\n\" style=\"fill:#ffffff;\"/>\n   </g>\n   <g clip-path=\"url(#pf3bbde6abe)\">\n    <image height=\"179\" id=\"imageaf1ced3c95\" transform=\"scale(1 -1)translate(0 -179)\" width=\"179\" x=\"26.925\" xlink:href=\"data:image/png;base64,\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\" y=\"-32.85156\"/>\n   </g>\n   <g id=\"matplotlib.axis_1\">\n    <g id=\"xtick_1\">\n     <g id=\"line2d_1\">\n      <defs>\n       <path d=\"M 0 0 \nL 0 3.5 \n\" id=\"mb3ff8f54bd\" style=\"stroke:#000000;stroke-width:0.8;\"/>\n      </defs>\n      <g>\n       <use style=\"stroke:#000000;stroke-width:0.8;\" x=\"31.389\" xlink:href=\"#mb3ff8f54bd\" y=\"211.85156\"/>\n      </g>\n     </g>\n     <g id=\"line2d_2\">\n      <defs>\n       <path d=\"M 0 0 \nL 0 -3.5 \n\" id=\"m812d4a8be3\" style=\"stroke:#000000;stroke-width:0.8;\"/>\n      </defs>\n      <g>\n       <use style=\"stroke:#000000;stroke-width:0.8;\" x=\"31.389\" xlink:href=\"#m812d4a8be3\" y=\"33.29156\"/>\n      </g>\n     </g>\n     <g id=\"text_1\">\n      <!-- 0 -->\n      <defs>\n       <path d=\"M 31.78125 66.40625 \nQ 24.171875 66.40625 20.328125 58.90625 \nQ 16.5 51.421875 16.5 36.375 \nQ 16.5 21.390625 20.328125 13.890625 \nQ 24.171875 6.390625 31.78125 6.390625 \nQ 39.453125 6.390625 43.28125 13.890625 \nQ 47.125 21.390625 47.125 36.375 \nQ 47.125 51.421875 43.28125 58.90625 \nQ 39.453125 66.40625 31.78125 66.40625 \nz\nM 31.78125 74.21875 \nQ 44.046875 74.21875 50.515625 64.515625 \nQ 56.984375 54.828125 56.984375 36.375 \nQ 56.984375 17.96875 50.515625 8.265625 \nQ 44.046875 -1.421875 31.78125 -1.421875 \nQ 19.53125 -1.421875 13.0625 8.265625 \nQ 6.59375 17.96875 6.59375 36.375 \nQ 6.59375 54.828125 13.0625 64.515625 \nQ 19.53125 74.21875 31.78125 74.21875 \nz\n\" id=\"DejaVuSans-48\"/>\n      </defs>\n      <g transform=\"translate(28.20775 24.211872)scale(0.1 -0.1)\">\n       <use xlink:href=\"#DejaVuSans-48\"/>\n      </g>\n     </g>\n    </g>\n    <g id=\"xtick_2\">\n     <g id=\"line2d_3\">\n      <g>\n       <use style=\"stroke:#000000;stroke-width:0.8;\" x=\"76.029\" xlink:href=\"#mb3ff8f54bd\" y=\"211.85156\"/>\n      </g>\n     </g>\n     <g id=\"line2d_4\">\n      <g>\n       <use style=\"stroke:#000000;stroke-width:0.8;\" x=\"76.029\" xlink:href=\"#m812d4a8be3\" y=\"33.29156\"/>\n      </g>\n     </g>\n     <g id=\"text_2\">\n      <!-- 5 -->\n      <defs>\n       <path d=\"M 10.796875 72.90625 \nL 49.515625 72.90625 \nL 49.515625 64.59375 \nL 19.828125 64.59375 \nL 19.828125 46.734375 \nQ 21.96875 47.46875 24.109375 47.828125 \nQ 26.265625 48.1875 28.421875 48.1875 \nQ 40.625 48.1875 47.75 41.5 \nQ 54.890625 34.8125 54.890625 23.390625 \nQ 54.890625 11.625 47.5625 5.09375 \nQ 40.234375 -1.421875 26.90625 -1.421875 \nQ 22.3125 -1.421875 17.546875 -0.640625 \nQ 12.796875 0.140625 7.71875 1.703125 \nL 7.71875 11.625 \nQ 12.109375 9.234375 16.796875 8.0625 \nQ 21.484375 6.890625 26.703125 6.890625 \nQ 35.15625 6.890625 40.078125 11.328125 \nQ 45.015625 15.765625 45.015625 23.390625 \nQ 45.015625 31 40.078125 35.4375 \nQ 35.15625 39.890625 26.703125 39.890625 \nQ 22.75 39.890625 18.8125 39.015625 \nQ 14.890625 38.140625 10.796875 36.28125 \nz\n\" id=\"DejaVuSans-53\"/>\n      </defs>\n      <g transform=\"translate(72.84775 24.211872)scale(0.1 -0.1)\">\n       <use xlink:href=\"#DejaVuSans-53\"/>\n      </g>\n     </g>\n    </g>\n    <g id=\"xtick_3\">\n     <g id=\"line2d_5\">\n      <g>\n       <use style=\"stroke:#000000;stroke-width:0.8;\" x=\"120.669\" xlink:href=\"#mb3ff8f54bd\" y=\"211.85156\"/>\n      </g>\n     </g>\n     <g id=\"line2d_6\">\n      <g>\n       <use style=\"stroke:#000000;stroke-width:0.8;\" x=\"120.669\" xlink:href=\"#m812d4a8be3\" y=\"33.29156\"/>\n      </g>\n     </g>\n     <g id=\"text_3\">\n      <!-- 10 -->\n      <defs>\n       <path d=\"M 12.40625 8.296875 \nL 28.515625 8.296875 \nL 28.515625 63.921875 \nL 10.984375 60.40625 \nL 10.984375 69.390625 \nL 28.421875 72.90625 \nL 38.28125 72.90625 \nL 38.28125 8.296875 \nL 54.390625 8.296875 \nL 54.390625 0 \nL 12.40625 0 \nz\n\" id=\"DejaVuSans-49\"/>\n      </defs>\n      <g transform=\"translate(114.3065 24.211872)scale(0.1 -0.1)\">\n       <use xlink:href=\"#DejaVuSans-49\"/>\n       <use x=\"63.623047\" xlink:href=\"#DejaVuSans-48\"/>\n      </g>\n     </g>\n    </g>\n    <g id=\"xtick_4\">\n     <g id=\"line2d_7\">\n      <g>\n       <use style=\"stroke:#000000;stroke-width:0.8;\" x=\"165.309\" xlink:href=\"#mb3ff8f54bd\" y=\"211.85156\"/>\n      </g>\n     </g>\n     <g id=\"line2d_8\">\n      <g>\n       <use style=\"stroke:#000000;stroke-width:0.8;\" x=\"165.309\" xlink:href=\"#m812d4a8be3\" y=\"33.29156\"/>\n      </g>\n     </g>\n     <g id=\"text_4\">\n      <!-- 15 -->\n      <g transform=\"translate(158.9465 24.211872)scale(0.1 -0.1)\">\n       <use xlink:href=\"#DejaVuSans-49\"/>\n       <use x=\"63.623047\" xlink:href=\"#DejaVuSans-53\"/>\n      </g>\n     </g>\n    </g>\n   </g>\n   <g id=\"matplotlib.axis_2\">\n    <g id=\"ytick_1\">\n     <g id=\"line2d_9\">\n      <defs>\n       <path d=\"M 0 0 \nL -3.5 0 \n\" id=\"mdb9f899078\" style=\"stroke:#000000;stroke-width:0.8;\"/>\n      </defs>\n      <g>\n       <use style=\"stroke:#000000;stroke-width:0.8;\" x=\"26.925\" xlink:href=\"#mdb9f899078\" y=\"37.75556\"/>\n      </g>\n     </g>\n     <g id=\"text_5\">\n      <!-- 0 -->\n      <g transform=\"translate(13.5625 41.554778)scale(0.1 -0.1)\">\n       <use xlink:href=\"#DejaVuSans-48\"/>\n      </g>\n     </g>\n    </g>\n    <g id=\"ytick_2\">\n     <g id=\"line2d_10\">\n      <g>\n       <use style=\"stroke:#000000;stroke-width:0.8;\" x=\"26.925\" xlink:href=\"#mdb9f899078\" y=\"82.39556\"/>\n      </g>\n     </g>\n     <g id=\"text_6\">\n      <!-- 5 -->\n      <g transform=\"translate(13.5625 86.194778)scale(0.1 -0.1)\">\n       <use xlink:href=\"#DejaVuSans-53\"/>\n      </g>\n     </g>\n    </g>\n    <g id=\"ytick_3\">\n     <g id=\"line2d_11\">\n      <g>\n       <use style=\"stroke:#000000;stroke-width:0.8;\" x=\"26.925\" xlink:href=\"#mdb9f899078\" y=\"127.03556\"/>\n      </g>\n     </g>\n     <g id=\"text_7\">\n      <!-- 10 -->\n      <g transform=\"translate(7.2 130.834778)scale(0.1 -0.1)\">\n       <use xlink:href=\"#DejaVuSans-49\"/>\n       <use x=\"63.623047\" xlink:href=\"#DejaVuSans-48\"/>\n      </g>\n     </g>\n    </g>\n    <g id=\"ytick_4\">\n     <g id=\"line2d_12\">\n      <g>\n       <use style=\"stroke:#000000;stroke-width:0.8;\" x=\"26.925\" xlink:href=\"#mdb9f899078\" y=\"171.67556\"/>\n      </g>\n     </g>\n     <g id=\"text_8\">\n      <!-- 15 -->\n      <g transform=\"translate(7.2 175.474778)scale(0.1 -0.1)\">\n       <use xlink:href=\"#DejaVuSans-49\"/>\n       <use x=\"63.623047\" xlink:href=\"#DejaVuSans-53\"/>\n      </g>\n     </g>\n    </g>\n   </g>\n   <g id=\"patch_3\">\n    <path d=\"M 26.925 211.85156 \nL 26.925 33.29156 \n\" style=\"fill:none;stroke:#000000;stroke-linecap:square;stroke-linejoin:miter;stroke-width:0.8;\"/>\n   </g>\n   <g id=\"patch_4\">\n    <path d=\"M 205.485 211.85156 \nL 205.485 33.29156 \n\" style=\"fill:none;stroke:#000000;stroke-linecap:square;stroke-linejoin:miter;stroke-width:0.8;\"/>\n   </g>\n   <g id=\"patch_5\">\n    <path d=\"M 26.925 211.85156 \nL 205.485 211.85156 \n\" style=\"fill:none;stroke:#000000;stroke-linecap:square;stroke-linejoin:miter;stroke-width:0.8;\"/>\n   </g>\n   <g id=\"patch_6\">\n    <path d=\"M 26.925 33.29156 \nL 205.485 33.29156 \n\" style=\"fill:none;stroke:#000000;stroke-linecap:square;stroke-linejoin:miter;stroke-width:0.8;\"/>\n   </g>\n  </g>\n  <g id=\"axes_2\">\n   <g id=\"patch_7\">\n    <path clip-path=\"url(#p4b97848330)\" d=\"M 216.645 234.17156 \nL 216.645 233.299685 \nL 216.645 11.843435 \nL 216.645 10.97156 \nL 227.805 10.97156 \nL 227.805 11.843435 \nL 227.805 233.299685 \nL 227.805 234.17156 \nz\n\" style=\"fill:#ffffff;stroke:#ffffff;stroke-linejoin:miter;stroke-width:0.01;\"/>\n   </g>\n   <image height=\"223\" id=\"imagec3e1df4ee1\" transform=\"scale(1 -1)translate(0 -223)\" width=\"11\" x=\"217\" xlink:href=\"data:image/png;base64,\niVBORw0KGgoAAAANSUhEUgAAAAsAAADfCAYAAAAgAykfAAAABHNCSVQICAgIfAhkiAAAAWBJREFUaIHVmsutAzEIAA3YqWxLSP+VJHFa8BxGwu+M0DB8InlfPPHe4/BvRtVp7Jgj8jw4MqTMg2UGwcxGEmaCgQqMHuoGGyQNQ/MMMUhTShukHjY2wziONXdQZNY6yJhLy3weSwvUPG82/ADDGySvKRsFa+rQRULMng1vnkUMTx1bWJS5R4E3Zr7wyMDfFIIh7mCLzOLlv5C5S2btMHYp8D51IO+lw29O3fGbUx9199lgIyoubIICvQ4iz+b5AhjgZcgskAUPCyOYOg8DBLN2s2CA4akDFLhAy0aSzJm/DhjIRpId9JiLqSMFijY0DBI8iTpUoMcsBpMCZ347YEAboN3VQ10xG2Se0ZFhNgDGCmuQCtkgnllmNHUEA6pDGNogkcxeB1d8CIZVoNcUb2FfRJ23VuwwalPnLSy8/GhErWDwCQirQ5nBJxLygjOLfHxJgoGYF/lvlgSPVJDZwvgD5PWCfrlrSfEAAAAASUVORK5CYII=\" y=\"-11\"/>\n   <g id=\"matplotlib.axis_3\"/>\n   <g id=\"matplotlib.axis_4\">\n    <g id=\"ytick_5\">\n     <g id=\"line2d_13\">\n      <defs>\n       <path d=\"M 0 0 \nL 3.5 0 \n\" id=\"meecdeeacd1\" style=\"stroke:#000000;stroke-width:0.8;\"/>\n      </defs>\n      <g>\n       <use style=\"stroke:#000000;stroke-width:0.8;\" x=\"227.805\" xlink:href=\"#meecdeeacd1\" y=\"232.227598\"/>\n      </g>\n     </g>\n     <g id=\"text_9\">\n      <!-- −0.6 -->\n      <defs>\n       <path d=\"M 10.59375 35.5 \nL 73.1875 35.5 \nL 73.1875 27.203125 \nL 10.59375 27.203125 \nz\n\" id=\"DejaVuSans-8722\"/>\n       <path d=\"M 10.6875 12.40625 \nL 21 12.40625 \nL 21 0 \nL 10.6875 0 \nz\n\" id=\"DejaVuSans-46\"/>\n       <path d=\"M 33.015625 40.375 \nQ 26.375 40.375 22.484375 35.828125 \nQ 18.609375 31.296875 18.609375 23.390625 \nQ 18.609375 15.53125 22.484375 10.953125 \nQ 26.375 6.390625 33.015625 6.390625 \nQ 39.65625 6.390625 43.53125 10.953125 \nQ 47.40625 15.53125 47.40625 23.390625 \nQ 47.40625 31.296875 43.53125 35.828125 \nQ 39.65625 40.375 33.015625 40.375 \nz\nM 52.59375 71.296875 \nL 52.59375 62.3125 \nQ 48.875 64.0625 45.09375 64.984375 \nQ 41.3125 65.921875 37.59375 65.921875 \nQ 27.828125 65.921875 22.671875 59.328125 \nQ 17.53125 52.734375 16.796875 39.40625 \nQ 19.671875 43.65625 24.015625 45.921875 \nQ 28.375 48.1875 33.59375 48.1875 \nQ 44.578125 48.1875 50.953125 41.515625 \nQ 57.328125 34.859375 57.328125 23.390625 \nQ 57.328125 12.15625 50.6875 5.359375 \nQ 44.046875 -1.421875 33.015625 -1.421875 \nQ 20.359375 -1.421875 13.671875 8.265625 \nQ 6.984375 17.96875 6.984375 36.375 \nQ 6.984375 53.65625 15.1875 63.9375 \nQ 23.390625 74.21875 37.203125 74.21875 \nQ 40.921875 74.21875 44.703125 73.484375 \nQ 48.484375 72.75 52.59375 71.296875 \nz\n\" id=\"DejaVuSans-54\"/>\n      </defs>\n      <g transform=\"translate(234.805 236.026817)scale(0.1 -0.1)\">\n       <use xlink:href=\"#DejaVuSans-8722\"/>\n       <use x=\"83.789062\" xlink:href=\"#DejaVuSans-48\"/>\n       <use x=\"147.412109\" xlink:href=\"#DejaVuSans-46\"/>\n       <use x=\"179.199219\" xlink:href=\"#DejaVuSans-54\"/>\n      </g>\n     </g>\n    </g>\n    <g id=\"ytick_6\">\n     <g id=\"line2d_14\">\n      <g>\n       <use style=\"stroke:#000000;stroke-width:0.8;\" x=\"227.805\" xlink:href=\"#meecdeeacd1\" y=\"204.574051\"/>\n      </g>\n     </g>\n     <g id=\"text_10\">\n      <!-- −0.4 -->\n      <defs>\n       <path d=\"M 37.796875 64.3125 \nL 12.890625 25.390625 \nL 37.796875 25.390625 \nz\nM 35.203125 72.90625 \nL 47.609375 72.90625 \nL 47.609375 25.390625 \nL 58.015625 25.390625 \nL 58.015625 17.1875 \nL 47.609375 17.1875 \nL 47.609375 0 \nL 37.796875 0 \nL 37.796875 17.1875 \nL 4.890625 17.1875 \nL 4.890625 26.703125 \nz\n\" id=\"DejaVuSans-52\"/>\n      </defs>\n      <g transform=\"translate(234.805 208.373269)scale(0.1 -0.1)\">\n       <use xlink:href=\"#DejaVuSans-8722\"/>\n       <use x=\"83.789062\" xlink:href=\"#DejaVuSans-48\"/>\n       <use x=\"147.412109\" xlink:href=\"#DejaVuSans-46\"/>\n       <use x=\"179.199219\" xlink:href=\"#DejaVuSans-52\"/>\n      </g>\n     </g>\n    </g>\n    <g id=\"ytick_7\">\n     <g id=\"line2d_15\">\n      <g>\n       <use style=\"stroke:#000000;stroke-width:0.8;\" x=\"227.805\" xlink:href=\"#meecdeeacd1\" y=\"176.920503\"/>\n      </g>\n     </g>\n     <g id=\"text_11\">\n      <!-- −0.2 -->\n      <defs>\n       <path d=\"M 19.1875 8.296875 \nL 53.609375 8.296875 \nL 53.609375 0 \nL 7.328125 0 \nL 7.328125 8.296875 \nQ 12.9375 14.109375 22.625 23.890625 \nQ 32.328125 33.6875 34.8125 36.53125 \nQ 39.546875 41.84375 41.421875 45.53125 \nQ 43.3125 49.21875 43.3125 52.78125 \nQ 43.3125 58.59375 39.234375 62.25 \nQ 35.15625 65.921875 28.609375 65.921875 \nQ 23.96875 65.921875 18.8125 64.3125 \nQ 13.671875 62.703125 7.8125 59.421875 \nL 7.8125 69.390625 \nQ 13.765625 71.78125 18.9375 73 \nQ 24.125 74.21875 28.421875 74.21875 \nQ 39.75 74.21875 46.484375 68.546875 \nQ 53.21875 62.890625 53.21875 53.421875 \nQ 53.21875 48.921875 51.53125 44.890625 \nQ 49.859375 40.875 45.40625 35.40625 \nQ 44.1875 33.984375 37.640625 27.21875 \nQ 31.109375 20.453125 19.1875 8.296875 \nz\n\" id=\"DejaVuSans-50\"/>\n      </defs>\n      <g transform=\"translate(234.805 180.719722)scale(0.1 -0.1)\">\n       <use xlink:href=\"#DejaVuSans-8722\"/>\n       <use x=\"83.789062\" xlink:href=\"#DejaVuSans-48\"/>\n       <use x=\"147.412109\" xlink:href=\"#DejaVuSans-46\"/>\n       <use x=\"179.199219\" xlink:href=\"#DejaVuSans-50\"/>\n      </g>\n     </g>\n    </g>\n    <g id=\"ytick_8\">\n     <g id=\"line2d_16\">\n      <g>\n       <use style=\"stroke:#000000;stroke-width:0.8;\" x=\"227.805\" xlink:href=\"#meecdeeacd1\" y=\"149.266956\"/>\n      </g>\n     </g>\n     <g id=\"text_12\">\n      <!-- 0.0 -->\n      <g transform=\"translate(234.805 153.066175)scale(0.1 -0.1)\">\n       <use xlink:href=\"#DejaVuSans-48\"/>\n       <use x=\"63.623047\" xlink:href=\"#DejaVuSans-46\"/>\n       <use x=\"95.410156\" xlink:href=\"#DejaVuSans-48\"/>\n      </g>\n     </g>\n    </g>\n    <g id=\"ytick_9\">\n     <g id=\"line2d_17\">\n      <g>\n       <use style=\"stroke:#000000;stroke-width:0.8;\" x=\"227.805\" xlink:href=\"#meecdeeacd1\" y=\"121.613408\"/>\n      </g>\n     </g>\n     <g id=\"text_13\">\n      <!-- 0.2 -->\n      <g transform=\"translate(234.805 125.412627)scale(0.1 -0.1)\">\n       <use xlink:href=\"#DejaVuSans-48\"/>\n       <use x=\"63.623047\" xlink:href=\"#DejaVuSans-46\"/>\n       <use x=\"95.410156\" xlink:href=\"#DejaVuSans-50\"/>\n      </g>\n     </g>\n    </g>\n    <g id=\"ytick_10\">\n     <g id=\"line2d_18\">\n      <g>\n       <use style=\"stroke:#000000;stroke-width:0.8;\" x=\"227.805\" xlink:href=\"#meecdeeacd1\" y=\"93.959861\"/>\n      </g>\n     </g>\n     <g id=\"text_14\">\n      <!-- 0.4 -->\n      <g transform=\"translate(234.805 97.75908)scale(0.1 -0.1)\">\n       <use xlink:href=\"#DejaVuSans-48\"/>\n       <use x=\"63.623047\" xlink:href=\"#DejaVuSans-46\"/>\n       <use x=\"95.410156\" xlink:href=\"#DejaVuSans-52\"/>\n      </g>\n     </g>\n    </g>\n    <g id=\"ytick_11\">\n     <g id=\"line2d_19\">\n      <g>\n       <use style=\"stroke:#000000;stroke-width:0.8;\" x=\"227.805\" xlink:href=\"#meecdeeacd1\" y=\"66.306314\"/>\n      </g>\n     </g>\n     <g id=\"text_15\">\n      <!-- 0.6 -->\n      <g transform=\"translate(234.805 70.105532)scale(0.1 -0.1)\">\n       <use xlink:href=\"#DejaVuSans-48\"/>\n       <use x=\"63.623047\" xlink:href=\"#DejaVuSans-46\"/>\n       <use x=\"95.410156\" xlink:href=\"#DejaVuSans-54\"/>\n      </g>\n     </g>\n    </g>\n    <g id=\"ytick_12\">\n     <g id=\"line2d_20\">\n      <g>\n       <use style=\"stroke:#000000;stroke-width:0.8;\" x=\"227.805\" xlink:href=\"#meecdeeacd1\" y=\"38.652766\"/>\n      </g>\n     </g>\n     <g id=\"text_16\">\n      <!-- 0.8 -->\n      <defs>\n       <path d=\"M 31.78125 34.625 \nQ 24.75 34.625 20.71875 30.859375 \nQ 16.703125 27.09375 16.703125 20.515625 \nQ 16.703125 13.921875 20.71875 10.15625 \nQ 24.75 6.390625 31.78125 6.390625 \nQ 38.8125 6.390625 42.859375 10.171875 \nQ 46.921875 13.96875 46.921875 20.515625 \nQ 46.921875 27.09375 42.890625 30.859375 \nQ 38.875 34.625 31.78125 34.625 \nz\nM 21.921875 38.8125 \nQ 15.578125 40.375 12.03125 44.71875 \nQ 8.5 49.078125 8.5 55.328125 \nQ 8.5 64.0625 14.71875 69.140625 \nQ 20.953125 74.21875 31.78125 74.21875 \nQ 42.671875 74.21875 48.875 69.140625 \nQ 55.078125 64.0625 55.078125 55.328125 \nQ 55.078125 49.078125 51.53125 44.71875 \nQ 48 40.375 41.703125 38.8125 \nQ 48.828125 37.15625 52.796875 32.3125 \nQ 56.78125 27.484375 56.78125 20.515625 \nQ 56.78125 9.90625 50.3125 4.234375 \nQ 43.84375 -1.421875 31.78125 -1.421875 \nQ 19.734375 -1.421875 13.25 4.234375 \nQ 6.78125 9.90625 6.78125 20.515625 \nQ 6.78125 27.484375 10.78125 32.3125 \nQ 14.796875 37.15625 21.921875 38.8125 \nz\nM 18.3125 54.390625 \nQ 18.3125 48.734375 21.84375 45.5625 \nQ 25.390625 42.390625 31.78125 42.390625 \nQ 38.140625 42.390625 41.71875 45.5625 \nQ 45.3125 48.734375 45.3125 54.390625 \nQ 45.3125 60.0625 41.71875 63.234375 \nQ 38.140625 66.40625 31.78125 66.40625 \nQ 25.390625 66.40625 21.84375 63.234375 \nQ 18.3125 60.0625 18.3125 54.390625 \nz\n\" id=\"DejaVuSans-56\"/>\n      </defs>\n      <g transform=\"translate(234.805 42.451985)scale(0.1 -0.1)\">\n       <use xlink:href=\"#DejaVuSans-48\"/>\n       <use x=\"63.623047\" xlink:href=\"#DejaVuSans-46\"/>\n       <use x=\"95.410156\" xlink:href=\"#DejaVuSans-56\"/>\n      </g>\n     </g>\n    </g>\n    <g id=\"ytick_13\">\n     <g id=\"line2d_21\">\n      <g>\n       <use style=\"stroke:#000000;stroke-width:0.8;\" x=\"227.805\" xlink:href=\"#meecdeeacd1\" y=\"10.999219\"/>\n      </g>\n     </g>\n     <g id=\"text_17\">\n      <!-- 1.0 -->\n      <g transform=\"translate(234.805 14.798437)scale(0.1 -0.1)\">\n       <use xlink:href=\"#DejaVuSans-49\"/>\n       <use x=\"63.623047\" xlink:href=\"#DejaVuSans-46\"/>\n       <use x=\"95.410156\" xlink:href=\"#DejaVuSans-48\"/>\n      </g>\n     </g>\n    </g>\n   </g>\n   <g id=\"patch_8\">\n    <path d=\"M 216.645 234.17156 \nL 216.645 233.299685 \nL 216.645 11.843435 \nL 216.645 10.97156 \nL 227.805 10.97156 \nL 227.805 11.843435 \nL 227.805 233.299685 \nL 227.805 234.17156 \nz\n\" style=\"fill:none;stroke:#000000;stroke-linejoin:miter;stroke-width:0.8;\"/>\n   </g>\n  </g>\n </g>\n <defs>\n  <clipPath id=\"pf3bbde6abe\">\n   <rect height=\"178.56\" width=\"178.56\" x=\"26.925\" y=\"33.29156\"/>\n  </clipPath>\n  <clipPath id=\"p4b97848330\">\n   <rect height=\"223.2\" width=\"11.16\" x=\"216.645\" y=\"10.97156\"/>\n  </clipPath>\n </defs>\n</svg>\n",
      "image/png": "[encoded data removed]"
     },
     "metadata": {
      "needs_background": "light"
     }
    }
   ],
   "source": [
    "plt.matshow(np.cov(X.T))\n",
    "plt.colorbar()"
   ]
  },
  {
   "cell_type": "code",
   "execution_count": 10,
   "metadata": {},
   "outputs": [],
   "source": [
    "def GammaHyper(mean, var):\n",
    "    return mean**2/var, mean/var"
   ]
  },
  {
   "cell_type": "code",
   "execution_count": 11,
   "metadata": {},
   "outputs": [
    {
     "output_type": "execute_result",
     "data": {
      "text/plain": "(0.05, 0.1)"
     },
     "metadata": {},
     "execution_count": 11
    }
   ],
   "source": [
    "GammaHyper(0.5, 5) "
   ]
  },
  {
   "cell_type": "code",
   "execution_count": 16,
   "metadata": {},
   "outputs": [],
   "source": [
    "# Linear Regression\n",
    "with pm.Model() as model1:\n",
    "    # Priors\n",
    "    beta = pm.Normal(\"beta\", mu=0, sigma=3, shape=k)\n",
    "    sd = pm.Gamma(\"sd\", alpha=0.05, beta=0.1, shape=1)\n",
    "    \n",
    "    # Likelihood\n",
    "    mu = pm.Deterministic(\"mu\", tt.dot(x, beta))\n",
    "    y_ = pm.Normal(\"y_obs\", mu=mu, sd=sd, observed=y_obs)"
   ]
  },
  {
   "cell_type": "code",
   "execution_count": 17,
   "metadata": {},
   "outputs": [
    {
     "output_type": "execute_result",
     "data": {
      "text/plain": "beta          -50.57\nsd_log__       -3.17\ny_obs      -29522.39\nName: Log-probability of test_point, dtype: float64"
     },
     "metadata": {},
     "execution_count": 17
    }
   ],
   "source": [
    "model1.check_test_point()"
   ]
  },
  {
   "cell_type": "code",
   "execution_count": 18,
   "metadata": {},
   "outputs": [
    {
     "output_type": "stream",
     "name": "stderr",
     "text": "Auto-assigning NUTS sampler...\nInitializing NUTS using jitter+adapt_diag...\nSequential sampling (2 chains in 1 job)\nNUTS: [sd, beta]\nSampling chain 0, 0 divergences: 100%|██████████| 1000/1000 [02:28<00:00,  6.74it/s]\nSampling chain 1, 0 divergences: 100%|██████████| 1000/1000 [02:32<00:00,  6.55it/s]\nThe chain reached the maximum tree depth. Increase max_treedepth, increase target_accept or reparameterize.\nThe chain reached the maximum tree depth. Increase max_treedepth, increase target_accept or reparameterize.\nThe rhat statistic is larger than 1.05 for some parameters. This indicates slight problems during sampling.\nThe estimated number of effective samples is smaller than 200 for some parameters.\n"
    }
   ],
   "source": [
    "with model1:\n",
    "    tr = pm.sample(cores=1)"
   ]
  },
  {
   "cell_type": "code",
   "execution_count": null,
   "metadata": {},
   "outputs": [],
   "source": [
    "lines= [(\"beta\", {\"beta_dim_0\":i}, true_beta[i]) for i in range(0, 20)]\n",
    "fig1 = plot_trace(tr, var_names=[\"beta\"], lines=lines)"
   ]
  },
  {
   "cell_type": "markdown",
   "metadata": {},
   "source": [
    "### g-Prior - Zellner 1986 / Krishna, Bondell and Ghosh 2009"
   ]
  },
  {
   "cell_type": "code",
   "execution_count": null,
   "metadata": {},
   "outputs": [],
   "source": [
    "print(true_beta)\n",
    "summary(tr, var_names=[\"beta\"])"
   ]
  },
  {
   "cell_type": "code",
   "execution_count": null,
   "metadata": {},
   "outputs": [],
   "source": [
    "print(true_beta)\n",
    "lines= [(\"beta\", {\"beta_dim_0\":i}, true_beta[i]) for i in range(0, 20)]\n",
    "fig1=plot_trace(tr, var_names=[\"beta\"], lines=lines)"
   ]
  },
  {
   "cell_type": "code",
   "execution_count": null,
   "metadata": {},
   "outputs": [],
   "source": [
    "g = 1/n\n",
    "with pm.Model() as model2:\n",
    "\n",
    "    # Priors\n",
    "    #w = pm.Bernoulli(\"w\", p=0.5, shape=k) \n",
    "    sd = pm.Gamma(\"sd\", alpha=0.07, beta=0.1, shape=1, testval=0.5)\n",
    "    #lam = pm.TruncatedNormal(\"lam\", mu=0, sigma=7, lower=-1, upper=1, testval=0.99)\n",
    "    F = pm.Deterministic(\"F\", pm.math.sqr(sd)*tt.dot(tt.dot(S_, D_), St_)*n)\n",
    "    kk = pm.Deterministic(\"k\", tt.nlinalg.trace(XtX_)/tt.nlinalg.trace(F))\n",
    "    beta_tilde = pm.MvNormal(\"beta_tilde\", mu=0,  cov=kk*F, shape=k, testval=0)\n",
    "\n",
    "    # Likelihood\n",
    "    mu = pm.Deterministic(\"mu\", tt.dot(x, beta))\n",
    "    y_ = pm.Normal(\"y_obs\", mu=mu, sd=sd, observed=y)"
   ]
  },
  {
   "cell_type": "code",
   "execution_count": null,
   "metadata": {},
   "outputs": [],
   "source": [
    "XtX_ = X.T@X"
   ]
  },
  {
   "cell_type": "code",
   "execution_count": null,
   "metadata": {},
   "outputs": [],
   "source": [
    "S, D, St = np.linalg.svd(XtX)"
   ]
  },
  {
   "cell_type": "code",
   "execution_count": null,
   "metadata": {},
   "outputs": [],
   "source": [
    "XtX_lam = S@np.diag(np.power(D, 0))@St"
   ]
  },
  {
   "cell_type": "code",
   "execution_count": null,
   "metadata": {},
   "outputs": [],
   "source": [
    "np.power(D, 0.5)"
   ]
  },
  {
   "cell_type": "code",
   "execution_count": null,
   "metadata": {},
   "outputs": [],
   "source": [
    "kkk = np.trace(S)/np.trace(XtX_lam)"
   ]
  },
  {
   "cell_type": "code",
   "execution_count": null,
   "metadata": {},
   "outputs": [],
   "source": [
    "S_ = _shared(S)\n",
    "D_ = _shared(np.diag(np.power(D, -1))) # -1 inverse\n",
    "St_ = _shared(St)\n",
    "XtX_ = _shared(XtX)"
   ]
  },
  {
   "cell_type": "code",
   "execution_count": null,
   "metadata": {},
   "outputs": [],
   "source": [
    "model2.check_test_point()"
   ]
  },
  {
   "cell_type": "code",
   "execution_count": null,
   "metadata": {},
   "outputs": [],
   "source": [
    "with model2:\n",
    "    tr = pm.sample(1000, tune=1000)"
   ]
  },
  {
   "cell_type": "code",
   "execution_count": null,
   "metadata": {},
   "outputs": [],
   "source": [
    "print(true_beta)\n",
    "lines= [(\"beta\", {\"beta_dim_0\":i}, true_beta[i]) for i in range(0, 20)]\n",
    "fig1 = plot_trace(tr, var_names=[\"beta\"], lines=lines)"
   ]
  },
  {
   "cell_type": "code",
   "execution_count": null,
   "metadata": {},
   "outputs": [],
   "source": [
    "print(true_beta)\n",
    "summary(tr, var_names=[\"w\"])"
   ]
  },
  {
   "cell_type": "markdown",
   "metadata": {},
   "source": [
    "### Spike and Slab Prior - George and McCulloch 1992"
   ]
  },
  {
   "cell_type": "code",
   "execution_count": null,
   "metadata": {},
   "outputs": [],
   "source": [
    "with pm.Model() as model2:\n",
    "    # Spike and Slab Priors\n",
    "    spike_prior = pm.Normal.dist(mu=0, sigma=0.01)\n",
    "    slab_prior = pm.Normal.dist(mu=0, sigma=100)\n",
    "    \n",
    "    # w = pm.Bernoulli(\"w\", p=0.25, shape=k) # Multinomial\n",
    "    w = pm.Beta(\"w\", alpha=0.25, beta=0.75, shape=k)\n",
    "    weights = pm.Deterministic(\"weights\", pm.math.stack([1.-w, w], axis=1))\n",
    "\n",
    "    # Independent Normal Priors\n",
    "    beta = pm.Mixture(\"beta\", w=weights, comp_dists=[spike_prior, slab_prior], shape=k)\n",
    "    sd = pm.Gamma(\"sd\", alpha=0.05, beta=0.1)\n",
    "\n",
    "    # Likelihood\n",
    "    mu = pm.Deterministic(\"mu\", tt.dot(x, beta))\n",
    "    y_ = pm.Normal(\"y_\", mu=mu, sd=sd, observed=y)"
   ]
  },
  {
   "cell_type": "code",
   "execution_count": null,
   "metadata": {},
   "outputs": [],
   "source": [
    "pm.Bernoulli.dist(p=0.5, shape=6).random()"
   ]
  },
  {
   "cell_type": "code",
   "execution_count": null,
   "metadata": {},
   "outputs": [],
   "source": [
    "model2.check_test_point()"
   ]
  },
  {
   "cell_type": "code",
   "execution_count": null,
   "metadata": {},
   "outputs": [],
   "source": [
    "with model2:\n",
    "    tr = pm.sample()"
   ]
  },
  {
   "cell_type": "code",
   "execution_count": null,
   "metadata": {},
   "outputs": [],
   "source": [
    "print(true_beta)\n",
    "summary(tr, var_names=[\"beta\"])"
   ]
  },
  {
   "cell_type": "code",
   "execution_count": null,
   "metadata": {},
   "outputs": [],
   "source": [
    "print(true_beta)\n",
    "fig1 = plot_trace(tr, var_names=[\"w\"])"
   ]
  },
  {
   "cell_type": "code",
   "execution_count": null,
   "metadata": {},
   "outputs": [],
   "source": [
    "with pm.Model() as model3:\n",
    "    \n",
    "    # Priors\n",
    "    sd = pm.Gamma(\"sd\", alpha=0.05, beta=0.1, shape=1)\n",
    "    tau = pm.HalfCauchy(\"tau\", beta=1, shape=1) # global shrinkage\n",
    "    lam = pm.HalfCauchy(\"lam\", beta=1/s, shape=k) # local shrinkage\n",
    "\n",
    "    scale = pm.Deterministic(\"scale\", pm.math.sqr(lam*tau))\n",
    "    beta_tilde = pm.Normal(\"beta_tilde\", mu=0, sigma=scale, shape=k)\n",
    "    beta = pm.Deterministic(\"beta\", beta_tilde*tau*lam*sd)\n",
    "    \n",
    "    kappa = pm.Deterministic(\"kappa\", 1/(1+pm.math.sqr(lam)))\n",
    "\n",
    "    # Likelihood\n",
    "    mu = pm.Deterministic(\"mu\", tt.dot(x, beta))\n",
    "    y_ = pm.Normal(\"y_obs\", mu=mu, sd=sd, observed=y)\n"
   ]
  },
  {
   "cell_type": "code",
   "execution_count": null,
   "metadata": {},
   "outputs": [],
   "source": [
    "model3.check_test_point()"
   ]
  },
  {
   "cell_type": "code",
   "execution_count": null,
   "metadata": {},
   "outputs": [],
   "source": [
    "with model3:\n",
    "    step = pm.NUTS(target_accept=0.95, max_treedepth=15, t0=15)\n",
    "    tr = pm.sample(1000, tune=1000, cores=4, chains=8, step=step)"
   ]
  },
  {
   "cell_type": "code",
   "execution_count": null,
   "metadata": {},
   "outputs": [],
   "source": [
    "summary(tr, var_names=[\"kappa\", \"beta\", \"sd\"])"
   ]
  },
  {
   "cell_type": "code",
   "execution_count": null,
   "metadata": {},
   "outputs": [],
   "source": [
    "fig1 = plot_trace(tr)"
   ]
  },
  {
   "cell_type": "markdown",
   "metadata": {},
   "source": [
    "### Finnish Horseshoe Prior - Piironen and Vehtari 2017"
   ]
  },
  {
   "cell_type": "code",
   "execution_count": null,
   "metadata": {},
   "outputs": [],
   "source": [
    "# Hyperparameters\n",
    "m0 = p  # expected number of nonzero predictors\n",
    "M = k\n",
    "N = n\n",
    "sigma = np.var(y)\n",
    "tau0 = m0/(M-m0)*sigma/np.sqrt(N)"
   ]
  },
  {
   "cell_type": "code",
   "execution_count": null,
   "metadata": {},
   "outputs": [],
   "source": [
    "nu = 25.\n",
    "s_sq = 1\n",
    "\n",
    "with pm.Model() as model4:\n",
    "    \n",
    "    # Priors\n",
    "    sd = pm.Gamma(\"sd\", alpha=0.05, beta=0.1, shape=1)\n",
    "    # sd = pm.Normal(\"sd\", mu=0.05, sd=2)\n",
    "\n",
    "    # Hyperpriors\n",
    "\n",
    "    tau = pm.HalfCauchy(\"tau\", beta=tau0, shape=1) \n",
    "    c_sq = pm.InverseGamma(\"c_sq\", alpha=nu/2, beta=nu/2*s_sq, shape=1)\n",
    "    lam = pm.HalfCauchy(\"lam\", beta=1, shape=k)     \n",
    "    lam_tilde = pm.Deterministic(\"lam_tilde\", pm.math.sqrt(c_sq)*lam/pm.math.sqrt(c_sq + pm.math.sqr(tau*lam)))\n",
    "\n",
    "    beta_tilde = pm.Normal(\"beta_tilde\", mu=0, sd=1, shape=k)\n",
    "    beta = pm.Deterministic(\"beta\", tau*lam_tilde*beta_tilde)\n",
    "    \n",
    "    # Likelihood\n",
    "    mu = pm.Deterministic(\"mu\", tt.dot(x, beta))\n",
    "    y_ = pm.Normal(\"y_obs\", mu=mu, sd=sd, observed=y)\n"
   ]
  },
  {
   "cell_type": "code",
   "execution_count": null,
   "metadata": {},
   "outputs": [],
   "source": [
    "model4.check_test_point()"
   ]
  },
  {
   "cell_type": "code",
   "execution_count": null,
   "metadata": {},
   "outputs": [],
   "source": [
    "with model4:\n",
    "    tr = pm.sample(2000, tune=1000)"
   ]
  },
  {
   "cell_type": "code",
   "execution_count": null,
   "metadata": {},
   "outputs": [],
   "source": [
    "print(true_beta)\n",
    "summary(tr, var_names=[\"beta\", \"sd\"])"
   ]
  },
  {
   "cell_type": "code",
   "execution_count": null,
   "metadata": {},
   "outputs": [],
   "source": [
    "print(true_beta)\n",
    "fig1 = plot_trace(tr, var_names=[\"beta\"])"
   ]
  },
  {
   "cell_type": "markdown",
   "metadata": {},
   "source": [
    "## Logistic Regression\n",
    "\n"
   ]
  },
  {
   "cell_type": "code",
   "execution_count": null,
   "metadata": {},
   "outputs": [],
   "source": []
  },
  {
   "cell_type": "code",
   "execution_count": null,
   "metadata": {},
   "outputs": [],
   "source": [
    "# Simulate Data\n",
    "k = 20\n",
    "n = 1000\n",
    "sigma = 0.5\n",
    "\n",
    "np.random.seed(615)\n",
    "true_beta = np.random.randn(k)\n",
    "true_beta[[2 ,3, 5, 7, 8, 9, 10, 11, 12, 13,  15, 16, 17, 19]] = 0\n",
    "\n",
    "L = np.array(\n",
    "    [[1., 0., 0., 0., 0., 0.],\n",
    "    [0.5, 0.4, 0., 0., 0., 0.],\n",
    "    [0.2, 0.5 , -0.7, 0., 0., 0.],\n",
    "    [0., 0., 0., 1., 0., 0.],\n",
    "    [0.7, 0.06, 0.03, 0., 0.8, 0.],\n",
    "    [-0.7, 0., 0., 0., 0.08, .1]]\n",
    "    )\n",
    "K = L@L.T\n",
    "\n",
    "# Predictor variable\n",
    "#X = pm.MvNormal.dist(mu=np.zeros(6), cov=K, shape=[1, 6]).random(size=n)\n",
    "X = pm.MvNormal.dist(mu=np.zeros(k), cov=np.diag(np.ones(k)), shape=[1, k]).random(size=n)\n",
    "x = _shared(X)\n",
    "\n",
    "# Simulate outcome variable\n",
    "y = X.dot(true_beta) + np.random.randn(n) * sigma \n"
   ]
  },
  {
   "cell_type": "code",
   "execution_count": null,
   "metadata": {},
   "outputs": [],
   "source": [
    "import matplotlib.pyplot as plt\n",
    "from sklearn.metrics import confusion_matrix, accuracy_score"
   ]
  },
  {
   "cell_type": "code",
   "execution_count": null,
   "metadata": {},
   "outputs": [],
   "source": [
    "plt.hist(y)"
   ]
  },
  {
   "cell_type": "code",
   "execution_count": null,
   "metadata": {},
   "outputs": [],
   "source": [
    "z = np.zeros(y.shape)"
   ]
  },
  {
   "cell_type": "code",
   "execution_count": null,
   "metadata": {},
   "outputs": [],
   "source": [
    "z[np.where(y > 0)] = 1"
   ]
  },
  {
   "cell_type": "code",
   "execution_count": null,
   "metadata": {},
   "outputs": [],
   "source": [
    "np.var(y)"
   ]
  },
  {
   "cell_type": "code",
   "execution_count": null,
   "metadata": {},
   "outputs": [],
   "source": [
    "# Hyperparameters\n",
    "m0 = k -2  # expected number of relevant slopes\n",
    "M = k\n",
    "N = n\n",
    "sigma = 1/(np.mean(y)*(1-np.mean(y)))\n",
    "tau0 = m0/(M-m0)*sigma/np.sqrt(N)"
   ]
  },
  {
   "cell_type": "code",
   "execution_count": null,
   "metadata": {},
   "outputs": [],
   "source": [
    "nu = 25.\n",
    "s_sq = 1\n",
    "\n",
    "with pm.Model() as logit:\n",
    "    \n",
    "    # Priors\n",
    "    sd = pm.Gamma(\"sd\", alpha=0.05, beta=0.1, shape=1)\n",
    "    # sd = pm.Normal(\"sd\", mu=0.05, sd=2)\n",
    "\n",
    "    # Hyperpriors\n",
    "    tau = pm.HalfCauchy(\"tau\", beta=tau0, shape=1) \n",
    "    c_sq = pm.InverseGamma(\"c_sq\", alpha=nu/2, beta=nu/2*s_sq, shape=1)\n",
    "    lam = pm.HalfCauchy(\"lam\", beta=1, shape=k)     \n",
    "    lam_tilde = pm.Deterministic(\"lam_tilde\", pm.math.sqrt(c_sq)*lam/pm.math.sqrt(c_sq + pm.math.sqr(tau*lam)))\n",
    "\n",
    "    beta_tilde = pm.Normal(\"beta_tilde\", mu=0, sd=1, shape=k)\n",
    "    beta = pm.Deterministic(\"beta\", tau*lam_tilde*beta_tilde)\n",
    "    \n",
    "    # Likelihood\n",
    "    mu = pm.Deterministic(\"mu\", tt.dot(x, beta))\n",
    "    p = pm.Deterministic('p', pm.math.exp(pm.Normal.dist(0, 1).logcdf(mu)))\n",
    "    y_ = pm.Bernoulli('y', p=p, observed=z)\n"
   ]
  },
  {
   "cell_type": "code",
   "execution_count": null,
   "metadata": {},
   "outputs": [],
   "source": [
    "logit.check_test_point()"
   ]
  },
  {
   "cell_type": "code",
   "execution_count": null,
   "metadata": {
    "tags": [
     "outputPrepend",
     "outputPrepend",
     "outputPrepend",
     "outputPrepend",
     "outputPrepend",
     "outputPrepend",
     "outputPrepend",
     "outputPrepend",
     "outputPrepend",
     "outputPrepend",
     "outputPrepend",
     "outputPrepend",
     "outputPrepend",
     "outputPrepend",
     "outputPrepend",
     "outputPrepend",
     "outputPrepend",
     "outputPrepend",
     "outputPrepend",
     "outputPrepend",
     "outputPrepend",
     "outputPrepend",
     "outputPrepend",
     "outputPrepend",
     "outputPrepend",
     "outputPrepend",
     "outputPrepend",
     "outputPrepend",
     "outputPrepend",
     "outputPrepend",
     "outputPrepend",
     "outputPrepend",
     "outputPrepend",
     "outputPrepend",
     "outputPrepend",
     "outputPrepend",
     "outputPrepend",
     "outputPrepend",
     "outputPrepend",
     "outputPrepend",
     "outputPrepend",
     "outputPrepend",
     "outputPrepend",
     "outputPrepend",
     "outputPrepend",
     "outputPrepend",
     "outputPrepend",
     "outputPrepend",
     "outputPrepend",
     "outputPrepend",
     "outputPrepend",
     "outputPrepend",
     "outputPrepend",
     "outputPrepend",
     "outputPrepend",
     "outputPrepend",
     "outputPrepend",
     "outputPrepend",
     "outputPrepend",
     "outputPrepend",
     "outputPrepend",
     "outputPrepend",
     "outputPrepend",
     "outputPrepend",
     "outputPrepend",
     "outputPrepend",
     "outputPrepend",
     "outputPrepend",
     "outputPrepend",
     "outputPrepend",
     "outputPrepend",
     "outputPrepend",
     "outputPrepend",
     "outputPrepend",
     "outputPrepend",
     "outputPrepend",
     "outputPrepend",
     "outputPrepend",
     "outputPrepend",
     "outputPrepend",
     "outputPrepend",
     "outputPrepend",
     "outputPrepend",
     "outputPrepend",
     "outputPrepend",
     "outputPrepend",
     "outputPrepend",
     "outputPrepend",
     "outputPrepend",
     "outputPrepend",
     "outputPrepend",
     "outputPrepend",
     "outputPrepend",
     "outputPrepend",
     "outputPrepend",
     "outputPrepend",
     "outputPrepend",
     "outputPrepend",
     "outputPrepend",
     "outputPrepend",
     "outputPrepend",
     "outputPrepend",
     "outputPrepend",
     "outputPrepend",
     "outputPrepend",
     "outputPrepend",
     "outputPrepend",
     "outputPrepend",
     "outputPrepend",
     "outputPrepend",
     "outputPrepend",
     "outputPrepend",
     "outputPrepend",
     "outputPrepend",
     "outputPrepend",
     "outputPrepend",
     "outputPrepend",
     "outputPrepend",
     "outputPrepend",
     "outputPrepend",
     "outputPrepend",
     "outputPrepend",
     "outputPrepend",
     "outputPrepend",
     "outputPrepend",
     "outputPrepend",
     "outputPrepend",
     "outputPrepend",
     "outputPrepend",
     "outputPrepend",
     "outputPrepend",
     "outputPrepend",
     "outputPrepend",
     "outputPrepend",
     "outputPrepend",
     "outputPrepend",
     "outputPrepend",
     "outputPrepend",
     "outputPrepend",
     "outputPrepend",
     "outputPrepend",
     "outputPrepend",
     "outputPrepend",
     "outputPrepend",
     "outputPrepend",
     "outputPrepend",
     "outputPrepend",
     "outputPrepend",
     "outputPrepend",
     "outputPrepend",
     "outputPrepend",
     "outputPrepend",
     "outputPrepend",
     "outputPrepend",
     "outputPrepend",
     "outputPrepend",
     "outputPrepend",
     "outputPrepend",
     "outputPrepend",
     "outputPrepend",
     "outputPrepend",
     "outputPrepend",
     "outputPrepend",
     "outputPrepend",
     "outputPrepend",
     "outputPrepend",
     "outputPrepend",
     "outputPrepend",
     "outputPrepend",
     "outputPrepend",
     "outputPrepend",
     "outputPrepend",
     "outputPrepend",
     "outputPrepend",
     "outputPrepend",
     "outputPrepend",
     "outputPrepend",
     "outputPrepend",
     "outputPrepend",
     "outputPrepend",
     "outputPrepend",
     "outputPrepend",
     "outputPrepend",
     "outputPrepend",
     "outputPrepend",
     "outputPrepend",
     "outputPrepend",
     "outputPrepend",
     "outputPrepend",
     "outputPrepend",
     "outputPrepend",
     "outputPrepend",
     "outputPrepend",
     "outputPrepend",
     "outputPrepend",
     "outputPrepend",
     "outputPrepend",
     "outputPrepend",
     "outputPrepend",
     "outputPrepend",
     "outputPrepend",
     "outputPrepend",
     "outputPrepend",
     "outputPrepend",
     "outputPrepend",
     "outputPrepend",
     "outputPrepend",
     "outputPrepend",
     "outputPrepend",
     "outputPrepend",
     "outputPrepend",
     "outputPrepend",
     "outputPrepend",
     "outputPrepend",
     "outputPrepend",
     "outputPrepend",
     "outputPrepend",
     "outputPrepend",
     "outputPrepend",
     "outputPrepend",
     "outputPrepend",
     "outputPrepend",
     "outputPrepend",
     "outputPrepend",
     "outputPrepend",
     "outputPrepend",
     "outputPrepend",
     "outputPrepend",
     "outputPrepend",
     "outputPrepend",
     "outputPrepend",
     "outputPrepend",
     "outputPrepend",
     "outputPrepend",
     "outputPrepend",
     "outputPrepend",
     "outputPrepend",
     "outputPrepend",
     "outputPrepend",
     "outputPrepend",
     "outputPrepend",
     "outputPrepend",
     "outputPrepend",
     "outputPrepend",
     "outputPrepend",
     "outputPrepend",
     "outputPrepend",
     "outputPrepend",
     "outputPrepend",
     "outputPrepend",
     "outputPrepend",
     "outputPrepend",
     "outputPrepend",
     "outputPrepend",
     "outputPrepend",
     "outputPrepend",
     "outputPrepend",
     "outputPrepend",
     "outputPrepend",
     "outputPrepend",
     "outputPrepend",
     "outputPrepend",
     "outputPrepend",
     "outputPrepend",
     "outputPrepend",
     "outputPrepend",
     "outputPrepend",
     "outputPrepend",
     "outputPrepend",
     "outputPrepend",
     "outputPrepend",
     "outputPrepend",
     "outputPrepend",
     "outputPrepend",
     "outputPrepend",
     "outputPrepend",
     "outputPrepend",
     "outputPrepend",
     "outputPrepend",
     "outputPrepend",
     "outputPrepend",
     "outputPrepend",
     "outputPrepend",
     "outputPrepend",
     "outputPrepend",
     "outputPrepend",
     "outputPrepend",
     "outputPrepend",
     "outputPrepend",
     "outputPrepend",
     "outputPrepend",
     "outputPrepend",
     "outputPrepend",
     "outputPrepend",
     "outputPrepend",
     "outputPrepend",
     "outputPrepend",
     "outputPrepend",
     "outputPrepend",
     "outputPrepend",
     "outputPrepend",
     "outputPrepend",
     "outputPrepend",
     "outputPrepend",
     "outputPrepend",
     "outputPrepend",
     "outputPrepend",
     "outputPrepend",
     "outputPrepend",
     "outputPrepend",
     "outputPrepend",
     "outputPrepend",
     "outputPrepend",
     "outputPrepend",
     "outputPrepend",
     "outputPrepend",
     "outputPrepend",
     "outputPrepend",
     "outputPrepend",
     "outputPrepend",
     "outputPrepend",
     "outputPrepend",
     "outputPrepend",
     "outputPrepend",
     "outputPrepend",
     "outputPrepend",
     "outputPrepend",
     "outputPrepend",
     "outputPrepend",
     "outputPrepend",
     "outputPrepend",
     "outputPrepend",
     "outputPrepend",
     "outputPrepend",
     "outputPrepend",
     "outputPrepend",
     "outputPrepend",
     "outputPrepend",
     "outputPrepend",
     "outputPrepend",
     "outputPrepend",
     "outputPrepend",
     "outputPrepend",
     "outputPrepend",
     "outputPrepend",
     "outputPrepend",
     "outputPrepend",
     "outputPrepend",
     "outputPrepend",
     "outputPrepend",
     "outputPrepend",
     "outputPrepend",
     "outputPrepend",
     "outputPrepend",
     "outputPrepend",
     "outputPrepend",
     "outputPrepend",
     "outputPrepend",
     "outputPrepend",
     "outputPrepend",
     "outputPrepend",
     "outputPrepend",
     "outputPrepend",
     "outputPrepend",
     "outputPrepend",
     "outputPrepend",
     "outputPrepend",
     "outputPrepend",
     "outputPrepend",
     "outputPrepend",
     "outputPrepend",
     "outputPrepend",
     "outputPrepend",
     "outputPrepend",
     "outputPrepend",
     "outputPrepend",
     "outputPrepend",
     "outputPrepend",
     "outputPrepend",
     "outputPrepend",
     "outputPrepend",
     "outputPrepend",
     "outputPrepend",
     "outputPrepend",
     "outputPrepend",
     "outputPrepend",
     "outputPrepend",
     "outputPrepend",
     "outputPrepend",
     "outputPrepend",
     "outputPrepend",
     "outputPrepend",
     "outputPrepend",
     "outputPrepend",
     "outputPrepend",
     "outputPrepend",
     "outputPrepend",
     "outputPrepend",
     "outputPrepend",
     "outputPrepend",
     "outputPrepend",
     "outputPrepend",
     "outputPrepend",
     "outputPrepend",
     "outputPrepend",
     "outputPrepend",
     "outputPrepend",
     "outputPrepend",
     "outputPrepend",
     "outputPrepend",
     "outputPrepend",
     "outputPrepend",
     "outputPrepend",
     "outputPrepend",
     "outputPrepend",
     "outputPrepend",
     "outputPrepend",
     "outputPrepend",
     "outputPrepend",
     "outputPrepend",
     "outputPrepend",
     "outputPrepend",
     "outputPrepend",
     "outputPrepend",
     "outputPrepend",
     "outputPrepend",
     "outputPrepend",
     "outputPrepend",
     "outputPrepend",
     "outputPrepend",
     "outputPrepend",
     "outputPrepend",
     "outputPrepend",
     "outputPrepend",
     "outputPrepend",
     "outputPrepend",
     "outputPrepend",
     "outputPrepend",
     "outputPrepend",
     "outputPrepend",
     "outputPrepend",
     "outputPrepend",
     "outputPrepend",
     "outputPrepend",
     "outputPrepend",
     "outputPrepend",
     "outputPrepend",
     "outputPrepend",
     "outputPrepend",
     "outputPrepend",
     "outputPrepend",
     "outputPrepend",
     "outputPrepend",
     "outputPrepend",
     "outputPrepend",
     "outputPrepend",
     "outputPrepend",
     "outputPrepend",
     "outputPrepend",
     "outputPrepend",
     "outputPrepend",
     "outputPrepend",
     "outputPrepend",
     "outputPrepend",
     "outputPrepend",
     "outputPrepend",
     "outputPrepend",
     "outputPrepend",
     "outputPrepend",
     "outputPrepend",
     "outputPrepend",
     "outputPrepend",
     "outputPrepend",
     "outputPrepend",
     "outputPrepend",
     "outputPrepend",
     "outputPrepend",
     "outputPrepend",
     "outputPrepend",
     "outputPrepend",
     "outputPrepend",
     "outputPrepend",
     "outputPrepend",
     "outputPrepend",
     "outputPrepend",
     "outputPrepend",
     "outputPrepend",
     "outputPrepend",
     "outputPrepend",
     "outputPrepend",
     "outputPrepend",
     "outputPrepend",
     "outputPrepend",
     "outputPrepend",
     "outputPrepend",
     "outputPrepend",
     "outputPrepend",
     "outputPrepend",
     "outputPrepend",
     "outputPrepend",
     "outputPrepend",
     "outputPrepend",
     "outputPrepend",
     "outputPrepend",
     "outputPrepend",
     "outputPrepend",
     "outputPrepend",
     "outputPrepend",
     "outputPrepend",
     "outputPrepend",
     "outputPrepend",
     "outputPrepend",
     "outputPrepend",
     "outputPrepend",
     "outputPrepend",
     "outputPrepend",
     "outputPrepend",
     "outputPrepend",
     "outputPrepend",
     "outputPrepend",
     "outputPrepend",
     "outputPrepend",
     "outputPrepend",
     "outputPrepend",
     "outputPrepend",
     "outputPrepend",
     "outputPrepend",
     "outputPrepend",
     "outputPrepend",
     "outputPrepend",
     "outputPrepend",
     "outputPrepend",
     "outputPrepend",
     "outputPrepend",
     "outputPrepend",
     "outputPrepend",
     "outputPrepend",
     "outputPrepend",
     "outputPrepend",
     "outputPrepend",
     "outputPrepend",
     "outputPrepend",
     "outputPrepend",
     "outputPrepend",
     "outputPrepend",
     "outputPrepend",
     "outputPrepend",
     "outputPrepend",
     "outputPrepend",
     "outputPrepend",
     "outputPrepend",
     "outputPrepend",
     "outputPrepend",
     "outputPrepend",
     "outputPrepend",
     "outputPrepend",
     "outputPrepend",
     "outputPrepend",
     "outputPrepend",
     "outputPrepend",
     "outputPrepend",
     "outputPrepend",
     "outputPrepend",
     "outputPrepend",
     "outputPrepend",
     "outputPrepend",
     "outputPrepend",
     "outputPrepend",
     "outputPrepend",
     "outputPrepend",
     "outputPrepend",
     "outputPrepend",
     "outputPrepend",
     "outputPrepend",
     "outputPrepend",
     "outputPrepend",
     "outputPrepend",
     "outputPrepend",
     "outputPrepend",
     "outputPrepend",
     "outputPrepend",
     "outputPrepend",
     "outputPrepend",
     "outputPrepend",
     "outputPrepend",
     "outputPrepend",
     "outputPrepend",
     "outputPrepend",
     "outputPrepend",
     "outputPrepend",
     "outputPrepend",
     "outputPrepend",
     "outputPrepend",
     "outputPrepend",
     "outputPrepend",
     "outputPrepend",
     "outputPrepend",
     "outputPrepend",
     "outputPrepend",
     "outputPrepend",
     "outputPrepend",
     "outputPrepend",
     "outputPrepend",
     "outputPrepend",
     "outputPrepend",
     "outputPrepend",
     "outputPrepend",
     "outputPrepend",
     "outputPrepend",
     "outputPrepend",
     "outputPrepend",
     "outputPrepend",
     "outputPrepend",
     "outputPrepend",
     "outputPrepend",
     "outputPrepend",
     "outputPrepend",
     "outputPrepend",
     "outputPrepend",
     "outputPrepend",
     "outputPrepend",
     "outputPrepend",
     "outputPrepend",
     "outputPrepend",
     "outputPrepend",
     "outputPrepend",
     "outputPrepend",
     "outputPrepend",
     "outputPrepend",
     "outputPrepend",
     "outputPrepend",
     "outputPrepend",
     "outputPrepend",
     "outputPrepend",
     "outputPrepend",
     "outputPrepend",
     "outputPrepend",
     "outputPrepend",
     "outputPrepend",
     "outputPrepend",
     "outputPrepend",
     "outputPrepend",
     "outputPrepend",
     "outputPrepend",
     "outputPrepend",
     "outputPrepend",
     "outputPrepend",
     "outputPrepend",
     "outputPrepend",
     "outputPrepend",
     "outputPrepend",
     "outputPrepend",
     "outputPrepend",
     "outputPrepend",
     "outputPrepend",
     "outputPrepend",
     "outputPrepend",
     "outputPrepend",
     "outputPrepend",
     "outputPrepend"
    ]
   },
   "outputs": [],
   "source": [
    "with logit:\n",
    "    tr = pm.sample(2000, tune=1000)"
   ]
  },
  {
   "cell_type": "code",
   "execution_count": null,
   "metadata": {},
   "outputs": [],
   "source": [
    "print(true_beta)"
   ]
  },
  {
   "cell_type": "code",
   "execution_count": null,
   "metadata": {},
   "outputs": [],
   "source": [
    "summary(tr, var_names=[\"beta\", \"sd\"])"
   ]
  },
  {
   "cell_type": "code",
   "execution_count": null,
   "metadata": {},
   "outputs": [],
   "source": [
    "fig = plot_trace(tr, var_names=[\"beta\"], )"
   ]
  },
  {
   "cell_type": "code",
   "execution_count": null,
   "metadata": {},
   "outputs": [],
   "source": [
    "with logit:\n",
    "    ppc = pm.sample_posterior_predictive(tr, samples=2000)"
   ]
  },
  {
   "cell_type": "code",
   "execution_count": null,
   "metadata": {},
   "outputs": [],
   "source": [
    "z_pred_samps = ppc['y']\n",
    "z_pred = np.zeros(z_pred_samps.shape[1])\n",
    "z_probs = np.zeros([z_pred.shape[0], 2])\n",
    "\n",
    "for i in range(0, len(y)):\n",
    "\n",
    "    p1 = np.mean(z_pred_samps[:,i] == 0)\n",
    "    p2 = np.mean(z_pred_samps[:,i] == 1)\n",
    "    probs = [p1, p2]\n",
    "    z_probs[i] = probs\n",
    "    z_pred[i] = probs.index(max(probs))"
   ]
  },
  {
   "cell_type": "code",
   "execution_count": null,
   "metadata": {},
   "outputs": [],
   "source": [
    "print(confusion_matrix(z, z_pred))"
   ]
  },
  {
   "cell_type": "code",
   "execution_count": null,
   "metadata": {},
   "outputs": [],
   "source": [
    "print(f\"accuracy:{round(accuracy_score(y_true=z, y_pred=z_pred),2)}\")"
   ]
  },
  {
   "cell_type": "code",
   "execution_count": null,
   "metadata": {},
   "outputs": [],
   "source": []
  },
  {
   "cell_type": "code",
   "execution_count": null,
   "metadata": {},
   "outputs": [],
   "source": []
  }
 ],
 "metadata": {
  "language_info": {
   "codemirror_mode": {
    "name": "ipython",
    "version": 3
   },
   "file_extension": ".py",
   "mimetype": "text/x-python",
   "name": "python",
   "nbconvert_exporter": "python",
   "pygments_lexer": "ipython3",
   "version": "3.7.7-final"
  },
  "orig_nbformat": 2,
  "kernelspec": {
   "name": "python37764bitbayesianmethodspipenv46152ad7b29540c2b32faa0e8d5795a9",
   "display_name": "Python 3.7.7 64-bit ('bayesian_methods': pipenv)"
  }
 },
 "nbformat": 4,
 "nbformat_minor": 2
}